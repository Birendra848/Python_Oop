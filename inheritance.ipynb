{
  "nbformat": 4,
  "nbformat_minor": 0,
  "metadata": {
    "colab": {
      "name": "inheritance.ipynb",
      "provenance": [],
      "collapsed_sections": [],
      "authorship_tag": "ABX9TyNt6HOYLA/re6kG4RABWYKy"
    },
    "kernelspec": {
      "name": "python3",
      "display_name": "Python 3"
    }
  },
  "cells": [
    {
      "cell_type": "code",
      "metadata": {
        "colab": {
          "base_uri": "https://localhost:8080/"
        },
        "id": "DoyjDJ9sTPj5",
        "outputId": "671c747e-92d5-45e4-f9f9-1368ac1f761e"
      },
      "source": [
        "class vehicle:\r\n",
        "  def general_usage(self):\r\n",
        "    print(\"General Use: Transportaton\")\r\n",
        "\r\n",
        "class car(vehicle):     #way to inherit a class from another class \r\n",
        "  def __init__(self):   # init method is same as constructor\r\n",
        "    print(\"I am a car\")\r\n",
        "    self.wheels=4\r\n",
        "    self.has_roof= True\r\n",
        "\r\n",
        "  def specific_usage(self):\r\n",
        "    print(\"Specific usage: Suitable for more than one people\")\r\n",
        "\r\n",
        "class bike(vehicle):\r\n",
        "  def __init__(self):   # init method is same as constructor\r\n",
        "    print(\"I am a Bike\")\r\n",
        "    self.wheels=2\r\n",
        "    self.has_roof= False\r\n",
        "\r\n",
        "  def specific_usage(self):\r\n",
        "    print(\"Specific usage: Suitable for two people\")\r\n",
        "\r\n",
        "c=car()\r\n",
        "b=bike()\r\n",
        "c.specific_usage()\r\n",
        "b.specific_usage()\r\n",
        "\r\n",
        "print(isinstance(c, car))  # isinstance instance is built in function which returns true if c is an object of class.\r\n",
        "print(isinstance(c, bike))\r\n",
        "\r\n",
        "print(issubclass(car, vehicle))  #issubclass returns true if  car is sub class of a class\r\n",
        "\r\n",
        "\r\n"
      ],
      "execution_count": null,
      "outputs": [
        {
          "output_type": "stream",
          "text": [
            "I am a car\n",
            "I am a Bike\n",
            "Specific usage: Suitable for more than one people\n",
            "Specific usage: Suitable for two people\n",
            "True\n",
            "False\n",
            "True\n"
          ],
          "name": "stdout"
        }
      ]
    },
    {
      "cell_type": "markdown",
      "metadata": {
        "id": "SZSC7sySa1h6"
      },
      "source": [
        "# Multiple inheritance"
      ]
    },
    {
      "cell_type": "code",
      "metadata": {
        "id": "qzeh6Wi4XEXD",
        "colab": {
          "base_uri": "https://localhost:8080/"
        },
        "outputId": "06a44b0b-b9e6-426b-913a-7a1c6ecca99e"
      },
      "source": [
        "class Father():\r\n",
        "  def gardening(self):\r\n",
        "    print(\"i love garening\")\r\n",
        "class Mother():\r\n",
        "  def cooking(self):\r\n",
        "    print(\"i enjoy cooking\")\r\n",
        "\r\n",
        "class child(Father,Mother):\r\n",
        "  def sports(self):\r\n",
        "    print(\" i enjoy sports\")\r\n",
        "\r\n",
        "c= child()\r\n",
        "c.gardening()\r\n",
        "c.cooking()\r\n",
        "c.sports()"
      ],
      "execution_count": null,
      "outputs": [
        {
          "output_type": "stream",
          "text": [
            "i love garening\n",
            "i enjoy cooking\n",
            " i enjoy sports\n"
          ],
          "name": "stdout"
        }
      ]
    },
    {
      "cell_type": "markdown",
      "metadata": {
        "id": "njY8e6f9xcp8"
      },
      "source": [
        "same as above example"
      ]
    },
    {
      "cell_type": "code",
      "metadata": {
        "colab": {
          "base_uri": "https://localhost:8080/"
        },
        "id": "kGzkOcX1xDYI",
        "outputId": "8f05c23a-bfb0-4ce2-d4ce-6de6d9a610a8"
      },
      "source": [
        "class Father():\r\n",
        "  def skills(self):\r\n",
        "    print(\"programming\")\r\n",
        "class Mother():\r\n",
        "  def skills(self):\r\n",
        "    print(\"cooking,art\")\r\n",
        "\r\n",
        "class child(Father,Mother):\r\n",
        "  def skills(self):\r\n",
        "    Father.skills(self)\r\n",
        "    Mother.skills(self)\r\n",
        "    print(\" i enjoy sports\")\r\n",
        "\r\n",
        "c= child()\r\n",
        "c.skills()\r\n"
      ],
      "execution_count": null,
      "outputs": [
        {
          "output_type": "stream",
          "text": [
            "programming\n",
            "cooking,art\n",
            " i enjoy sports\n"
          ],
          "name": "stdout"
        }
      ]
    }
  ]
}